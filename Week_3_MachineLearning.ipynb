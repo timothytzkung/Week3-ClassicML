{
 "cells": [
  {
   "cell_type": "code",
   "execution_count": 44,
   "metadata": {
    "id": "ywb8NifF9XN3"
   },
   "outputs": [],
   "source": [
    "# from google.colab import drive\n",
    "# drive.mount('/content/drive')\n",
    "# Clearly explain what each SCALER does to your data\n",
    "# Isolate Actor 25 test data from data set\n",
    "\n",
    "filepath = \"data/Actor_*/*.wav\"\n",
    "\n",
    "test_filepath = \"Actor_25/*.wav\""
   ]
  },
  {
   "cell_type": "markdown",
   "metadata": {
    "id": "q5CvOjjrL9gw"
   },
   "source": [
    "<center><h1> Introduction to Audio Classification with Machine Learning Models </h1></center>\n",
    "\n",
    "\n",
    "\n",
    "### Purpose\n",
    "This notebook serves as an introduction to working with audio data for classification problems; it is meant as a learning resource rather than a demonstration of the state-of-the-art. The techniques mentioned in this notebook apply not only to classification problems, but to regression problems and problems dealing with other types of input data as well. I provide an introduction to a few key machine learning models and the logic in choosing their hyperparameters. These objectives are framed by the task of recognizing emotion from snippets of speech audio.\n",
    "\n",
    " Training data should be used strictly for training a model, validation data strictly for tuning a model, and test data strictly to evaluate a model once it is tuned - a model should never be tuned to perform better on test data.\n",
    "\n",
    "\n",
    "\n",
    "\n",
    "\n",
    "Classic machine learning models such as Support Vector Machines (SVM), k Nearest Neighbours (kNN), and Random Forests have distinct advantages to deep neural networks in many tasks."
   ]
  },
  {
   "cell_type": "markdown",
   "metadata": {
    "id": "QQsTfGREL9g1"
   },
   "source": [
    "<!--TABLE OF CONTENTS-->\n",
    "\n",
    "\n",
    "# Table of Contents\n",
    "  - [Intro: Speech Emotion Recognition on the RAVDESS dataset](#Intro:-Speech-Emotion-Recognition-on-the-RAVDESS-dataset)\n",
    "  - [Machine Learning Process Overview](#Machine-Learning-Process-Overview)\n",
    "  - [Feature Extraction](#Feature-Extraction)\n",
    "    - [Load the Dataset and Compute Features](#Load-the-Dataset-and-Compute-Features)\n",
    "    - [Feature Scaling](#Feature-Scaling)\n",
    "  - [Classical Machine Learning Models](#Classical-Machine-Learning-Models)\n",
    "    - [Training: The 80/20 Split and Validation](#Training:-The-80/20-Split-and-Validation)\n",
    "    - [Comparing Models](#Comparing-Models)\n",
    "    - [The Support Vector Machine Classifier](#The-Support-Vector-Machine-Classifier)\n",
    "    - [k Nearest Neighbours](#k-Nearest-Neighbours)\n",
    "    - [Random Forests](#Random-Forests)\n",
    "\n"
   ]
  },
  {
   "cell_type": "markdown",
   "metadata": {
    "id": "hZUcbr4PL9g2",
    "pycharm": {
     "name": "#%% md\n"
    }
   },
   "source": [
    "## Intro: Speech Emotion Recognition on the RAVDESS dataset\n",
    "In this notebook we explore the most common machine learning models, specifically those available off the shelf in scikit-learn.\n",
    "\n",
    "I'm going to use the RAVDESS dataset (Ryerson Audio-Visual Database of Emotional Speech and Song dataset), created by Steven Livingstone and Frank Russo of Ryerson University. <br>\n",
    "[Details of the RAVDESS dataset](https://smartlaboratory.org/ravdess/) <br>\n",
    "[Download the dataset used in this notebook](https://zenodo.org/record/1188976) <br> Scroll half-way down the page and find \"Audio_Speech_Actors_01-24\"<br>\n",
    "\n",
    "We're going to use the audio-only speech portion of the RAVDESS dataset, ~200MB.\n",
    "Audio is sourced from 24 actors (12 male, 12 female) repeating two sentences with\n",
    "a variety of emotions and intensity. We get 1440 speech files (24 actors * 60 recordings per actor). Each audio sample has been rated  by a human 10 times for emotional quality.\n",
    "\n",
    "## Machine Learning Process Overview\n",
    "1. Feature Engineering: Choose and define the properties which our model will use to evaluate the audio files. <br>\n",
    "2. Feature Extraction: Compute the features for each audio file and build a feature matrix representing all audio files. <br>\n",
    "3. Model exploration: Test candidate models that make sense for the properies of the dataset\n",
    "4. Training the MLP Classifier model: Choose and optimize the properties of our model on validation data - hyperparameters and architechture.  <br>\n",
    "5. Evaluate our model's performance: Evaluate our model's accuracy on validation data and score it against test data which it has never seen in training.<br>\n",
    "6. Explore options for improving our model: Is our dataset the right size? Is our model too complex or too simple? <br>\n"
   ]
  },
  {
   "cell_type": "code",
   "execution_count": 33,
   "metadata": {
    "colab": {
     "base_uri": "https://localhost:8080/"
    },
    "id": "BUcK3IoynI_C",
    "outputId": "4c5e1b77-1db7-4b2e-8017-3a689d72e0bb"
   },
   "outputs": [
    {
     "name": "stdout",
     "output_type": "stream",
     "text": [
      "Requirement already satisfied: librosa in /opt/homebrew/Cellar/jupyterlab/4.4.7/libexec/lib/python3.13/site-packages (0.11.0)\n",
      "Requirement already satisfied: audioread>=2.1.9 in /opt/homebrew/Cellar/jupyterlab/4.4.7/libexec/lib/python3.13/site-packages (from librosa) (3.0.1)\n",
      "Requirement already satisfied: numba>=0.51.0 in /opt/homebrew/Cellar/jupyterlab/4.4.7/libexec/lib/python3.13/site-packages (from librosa) (0.62.0)\n",
      "Requirement already satisfied: numpy>=1.22.3 in /opt/homebrew/Cellar/jupyterlab/4.4.7/libexec/lib/python3.13/site-packages (from librosa) (2.3.3)\n",
      "Requirement already satisfied: scipy>=1.6.0 in /opt/homebrew/Cellar/jupyterlab/4.4.7/libexec/lib/python3.13/site-packages (from librosa) (1.16.2)\n",
      "Requirement already satisfied: scikit-learn>=1.1.0 in /opt/homebrew/Cellar/jupyterlab/4.4.7/libexec/lib/python3.13/site-packages (from librosa) (1.7.2)\n",
      "Requirement already satisfied: joblib>=1.0 in /opt/homebrew/Cellar/jupyterlab/4.4.7/libexec/lib/python3.13/site-packages (from librosa) (1.5.2)\n",
      "Requirement already satisfied: decorator>=4.3.0 in /opt/homebrew/Cellar/jupyterlab/4.4.7/libexec/lib/python3.13/site-packages (from librosa) (5.2.1)\n",
      "Requirement already satisfied: soundfile>=0.12.1 in /opt/homebrew/Cellar/jupyterlab/4.4.7/libexec/lib/python3.13/site-packages (from librosa) (0.13.1)\n",
      "Requirement already satisfied: pooch>=1.1 in /opt/homebrew/Cellar/jupyterlab/4.4.7/libexec/lib/python3.13/site-packages (from librosa) (1.8.2)\n",
      "Requirement already satisfied: soxr>=0.3.2 in /opt/homebrew/Cellar/jupyterlab/4.4.7/libexec/lib/python3.13/site-packages (from librosa) (1.0.0)\n",
      "Requirement already satisfied: typing_extensions>=4.1.1 in /opt/homebrew/Cellar/jupyterlab/4.4.7/libexec/lib/python3.13/site-packages (from librosa) (4.15.0)\n",
      "Requirement already satisfied: lazy_loader>=0.1 in /opt/homebrew/Cellar/jupyterlab/4.4.7/libexec/lib/python3.13/site-packages (from librosa) (0.4)\n",
      "Requirement already satisfied: msgpack>=1.0 in /opt/homebrew/Cellar/jupyterlab/4.4.7/libexec/lib/python3.13/site-packages (from librosa) (1.1.1)\n",
      "Requirement already satisfied: standard-aifc in /opt/homebrew/Cellar/jupyterlab/4.4.7/libexec/lib/python3.13/site-packages (from librosa) (3.13.0)\n",
      "Requirement already satisfied: standard-sunau in /opt/homebrew/Cellar/jupyterlab/4.4.7/libexec/lib/python3.13/site-packages (from librosa) (3.13.0)\n",
      "Requirement already satisfied: packaging in /opt/homebrew/Cellar/jupyterlab/4.4.7/libexec/lib/python3.13/site-packages (from lazy_loader>=0.1->librosa) (25.0)\n",
      "Requirement already satisfied: llvmlite<0.46,>=0.45.0dev0 in /opt/homebrew/Cellar/jupyterlab/4.4.7/libexec/lib/python3.13/site-packages (from numba>=0.51.0->librosa) (0.45.0)\n",
      "Requirement already satisfied: platformdirs>=2.5.0 in /opt/homebrew/Cellar/jupyterlab/4.4.7/libexec/lib/python3.13/site-packages (from pooch>=1.1->librosa) (4.4.0)\n",
      "Requirement already satisfied: requests>=2.19.0 in /opt/homebrew/Cellar/jupyterlab/4.4.7/libexec/lib/python3.13/site-packages (from pooch>=1.1->librosa) (2.32.5)\n",
      "Requirement already satisfied: charset_normalizer<4,>=2 in /opt/homebrew/Cellar/jupyterlab/4.4.7/libexec/lib/python3.13/site-packages (from requests>=2.19.0->pooch>=1.1->librosa) (3.4.3)\n",
      "Requirement already satisfied: idna<4,>=2.5 in /opt/homebrew/Cellar/jupyterlab/4.4.7/libexec/lib/python3.13/site-packages (from requests>=2.19.0->pooch>=1.1->librosa) (3.10)\n",
      "Requirement already satisfied: urllib3<3,>=1.21.1 in /opt/homebrew/Cellar/jupyterlab/4.4.7/libexec/lib/python3.13/site-packages (from requests>=2.19.0->pooch>=1.1->librosa) (2.5.0)\n",
      "Requirement already satisfied: certifi>=2017.4.17 in /opt/homebrew/opt/certifi/lib/python3.13/site-packages (from requests>=2.19.0->pooch>=1.1->librosa) (2025.8.3)\n",
      "Requirement already satisfied: threadpoolctl>=3.1.0 in /opt/homebrew/Cellar/jupyterlab/4.4.7/libexec/lib/python3.13/site-packages (from scikit-learn>=1.1.0->librosa) (3.6.0)\n",
      "Requirement already satisfied: cffi>=1.0 in /opt/homebrew/Cellar/jupyterlab/4.4.7/libexec/lib/python3.13/site-packages (from soundfile>=0.12.1->librosa) (1.17.1)\n",
      "Requirement already satisfied: pycparser in /opt/homebrew/Cellar/jupyterlab/4.4.7/libexec/lib/python3.13/site-packages (from cffi>=1.0->soundfile>=0.12.1->librosa) (2.22)\n",
      "Requirement already satisfied: standard-chunk in /opt/homebrew/Cellar/jupyterlab/4.4.7/libexec/lib/python3.13/site-packages (from standard-aifc->librosa) (3.13.0)\n",
      "Requirement already satisfied: audioop-lts in /opt/homebrew/Cellar/jupyterlab/4.4.7/libexec/lib/python3.13/site-packages (from standard-aifc->librosa) (0.2.2)\n",
      "Note: you may need to restart the kernel to use updated packages.\n"
     ]
    }
   ],
   "source": [
    "pip install librosa"
   ]
  },
  {
   "cell_type": "code",
   "execution_count": 34,
   "metadata": {},
   "outputs": [
    {
     "name": "stdout",
     "output_type": "stream",
     "text": [
      "Requirement already satisfied: matplotlib in /opt/homebrew/Cellar/jupyterlab/4.4.7/libexec/lib/python3.13/site-packages (3.10.6)\n",
      "Requirement already satisfied: contourpy>=1.0.1 in /opt/homebrew/Cellar/jupyterlab/4.4.7/libexec/lib/python3.13/site-packages (from matplotlib) (1.3.3)\n",
      "Requirement already satisfied: cycler>=0.10 in /opt/homebrew/Cellar/jupyterlab/4.4.7/libexec/lib/python3.13/site-packages (from matplotlib) (0.12.1)\n",
      "Requirement already satisfied: fonttools>=4.22.0 in /opt/homebrew/Cellar/jupyterlab/4.4.7/libexec/lib/python3.13/site-packages (from matplotlib) (4.60.0)\n",
      "Requirement already satisfied: kiwisolver>=1.3.1 in /opt/homebrew/Cellar/jupyterlab/4.4.7/libexec/lib/python3.13/site-packages (from matplotlib) (1.4.9)\n",
      "Requirement already satisfied: numpy>=1.23 in /opt/homebrew/Cellar/jupyterlab/4.4.7/libexec/lib/python3.13/site-packages (from matplotlib) (2.3.3)\n",
      "Requirement already satisfied: packaging>=20.0 in /opt/homebrew/Cellar/jupyterlab/4.4.7/libexec/lib/python3.13/site-packages (from matplotlib) (25.0)\n",
      "Requirement already satisfied: pillow>=8 in /opt/homebrew/Cellar/jupyterlab/4.4.7/libexec/lib/python3.13/site-packages (from matplotlib) (11.3.0)\n",
      "Requirement already satisfied: pyparsing>=2.3.1 in /opt/homebrew/Cellar/jupyterlab/4.4.7/libexec/lib/python3.13/site-packages (from matplotlib) (3.2.5)\n",
      "Requirement already satisfied: python-dateutil>=2.7 in /opt/homebrew/Cellar/jupyterlab/4.4.7/libexec/lib/python3.13/site-packages (from matplotlib) (2.9.0.post0)\n",
      "Requirement already satisfied: six>=1.5 in /opt/homebrew/Cellar/jupyterlab/4.4.7/libexec/lib/python3.13/site-packages (from python-dateutil>=2.7->matplotlib) (1.17.0)\n",
      "Note: you may need to restart the kernel to use updated packages.\n"
     ]
    }
   ],
   "source": [
    "pip install matplotlib"
   ]
  },
  {
   "cell_type": "code",
   "execution_count": 35,
   "metadata": {},
   "outputs": [
    {
     "name": "stdout",
     "output_type": "stream",
     "text": [
      "Requirement already satisfied: pandas in /opt/homebrew/Cellar/jupyterlab/4.4.7/libexec/lib/python3.13/site-packages (2.3.2)\n",
      "Requirement already satisfied: numpy>=1.26.0 in /opt/homebrew/Cellar/jupyterlab/4.4.7/libexec/lib/python3.13/site-packages (from pandas) (2.3.3)\n",
      "Requirement already satisfied: python-dateutil>=2.8.2 in /opt/homebrew/Cellar/jupyterlab/4.4.7/libexec/lib/python3.13/site-packages (from pandas) (2.9.0.post0)\n",
      "Requirement already satisfied: pytz>=2020.1 in /opt/homebrew/Cellar/jupyterlab/4.4.7/libexec/lib/python3.13/site-packages (from pandas) (2025.2)\n",
      "Requirement already satisfied: tzdata>=2022.7 in /opt/homebrew/Cellar/jupyterlab/4.4.7/libexec/lib/python3.13/site-packages (from pandas) (2025.2)\n",
      "Requirement already satisfied: six>=1.5 in /opt/homebrew/Cellar/jupyterlab/4.4.7/libexec/lib/python3.13/site-packages (from python-dateutil>=2.8.2->pandas) (1.17.0)\n",
      "Note: you may need to restart the kernel to use updated packages.\n"
     ]
    }
   ],
   "source": [
    "pip install pandas"
   ]
  },
  {
   "cell_type": "code",
   "execution_count": 36,
   "metadata": {},
   "outputs": [
    {
     "name": "stdout",
     "output_type": "stream",
     "text": [
      "Requirement already satisfied: numpy in /opt/homebrew/Cellar/jupyterlab/4.4.7/libexec/lib/python3.13/site-packages (2.3.3)\n",
      "Note: you may need to restart the kernel to use updated packages.\n"
     ]
    }
   ],
   "source": [
    "pip install numpy"
   ]
  },
  {
   "cell_type": "code",
   "execution_count": 37,
   "metadata": {
    "id": "b2IL0uT19_3A"
   },
   "outputs": [],
   "source": [
    "#importing the required libraries\n",
    "\n",
    "import matplotlib.pyplot as plt\n",
    "import pandas as pd\n",
    "import numpy as np\n",
    "import librosa.display\n",
    "import soundfile\n",
    "import os\n",
    "# matplotlib complains about the behaviour of librosa.display, so we'll ignore those warnings:\n",
    "import warnings; warnings.filterwarnings('ignore')"
   ]
  },
  {
   "cell_type": "markdown",
   "metadata": {
    "id": "eu8VPhDmL9hC",
    "pycharm": {
     "name": "#%% md\n"
    }
   },
   "source": [
    "## Feature Extraction\n",
    "We're going to take full advantage of librosa, a Python library enabling audio analysis and feature extraction.\n",
    "Librosa abstracts away all the math and most of the details of mel spectrorgams, chromagrams, and MFCC.\n",
    "Although closely related, we're going to take the Mel Spectrogram, MFCC, and chromagrams of each audio file as separate features to try\n",
    "and have bit more discriminatory power between samples. <br>\n",
    "\n",
    "Let's build our feature extraction functions to get a chromagram, a mel spectorgram, and MFC coefficients for each of our audio files. Because the chromagram, mel spectrogram and MFCCs are calculated on audio frames produced by STFT, we're going to get a matrix back from each function, so we'll take the mean of those matrices to produce a single feature array for each feature and each audio sample, i.e. 3 feature arrays per audio sample.\n",
    "\n",
    "**Chromagram**: Will produce 12 features; One for each of 12 pitch classes\n",
    "\n",
    "**Mel Spectrogram**: Will produce 128 features; We've defined the number of mel frequency bands at n_mels=128\n",
    "\n",
    "**MFCC**: Will produce 40 MFCCs; I've set the number of coefficients to return at n_mfcc=40 which I found to work well"
   ]
  },
  {
   "cell_type": "code",
   "execution_count": 45,
   "metadata": {
    "id": "qTe93WYTL9hD",
    "pycharm": {
     "name": "#%%\n"
    }
   },
   "outputs": [],
   "source": [
    "\n",
    "\n",
    "def feature_chromagram(waveform, sample_rate):\n",
    "    # STFT computed here explicitly; mel spectrogram and MFCC functions do this under the hood\n",
    "    stft_spectrogram=np.abs(librosa.stft(waveform))\n",
    "    # Produce the chromagram for all STFT frames and get the mean of each column of the resulting matrix to create a feature array\n",
    "    chromagram=np.mean(librosa.feature.chroma_stft(S=stft_spectrogram, sr=sample_rate).T,axis=0)\n",
    "    return chromagram\n",
    "\n",
    "def feature_melspectrogram(waveform, sample_rate):\n",
    "    # Produce the mel spectrogram for all STFT frames and get the mean of each column of the resulting matrix to create a feature array\n",
    "    # Using 8khz as upper frequency bound should be enough for most speech classification tasks\n",
    "    melspectrogram=np.mean(librosa.feature.melspectrogram(y=waveform, sr=sample_rate, n_mels=128, fmax=8000).T,axis=0)\n",
    "    return melspectrogram\n",
    "\n",
    "def feature_mfcc(waveform, sample_rate):\n",
    "    # Compute the MFCCs for all STFT frames and get the mean of each column of the resulting matrix to create a feature array\n",
    "    # 40 filterbanks = 40 coefficients\n",
    "    mfc_coefficients=np.mean(librosa.feature.mfcc(y=waveform, sr=sample_rate, n_mfcc=40).T, axis=0)\n",
    "    return mfc_coefficients"
   ]
  },
  {
   "cell_type": "markdown",
   "metadata": {
    "id": "xjFXIfC2L9hD",
    "pycharm": {
     "name": "#%% md\n"
    }
   },
   "source": [
    "We're going to wrap our feature extraction functions so we only have to load each audio file once. After extracting our 3 audio features as NumPy arrays representing a time series, we're going to\n",
    "stack them horizontally to create a single feature array."
   ]
  },
  {
   "cell_type": "code",
   "execution_count": 46,
   "metadata": {
    "id": "f-UK-s6Rhl1F"
   },
   "outputs": [],
   "source": [
    "def preprocess_waveform(waveform):\n",
    "    # If the waveform has 2 channels (stereo), convert it to mono\n",
    "    if len(waveform.shape) > 1:\n",
    "        waveform = librosa.to_mono(waveform)\n",
    "    return waveform"
   ]
  },
  {
   "cell_type": "code",
   "execution_count": 47,
   "metadata": {
    "id": "xPMw9ijJL9hE",
    "pycharm": {
     "name": "#%%\n"
    }
   },
   "outputs": [],
   "source": [
    "def get_features(file):\n",
    "    # load an individual soundfile\n",
    "     with soundfile.SoundFile(file) as audio:\n",
    "        waveform = audio.read(dtype=\"float32\")\n",
    "        sample_rate = audio.samplerate\n",
    "        # make sure the file is mono channel audio\n",
    "        waveform = preprocess_waveform(waveform)\n",
    "        # compute features of soundfile\n",
    "        chromagram = feature_chromagram(waveform, sample_rate)\n",
    "        melspectrogram = feature_melspectrogram(waveform, sample_rate)\n",
    "        mfc_coefficients = feature_mfcc(waveform, sample_rate)\n",
    "\n",
    "        feature_matrix=np.array([])\n",
    "\n",
    "        # Check the shape of chromagram\n",
    "        if chromagram.ndim > 1 and chromagram.shape[1] > 1:\n",
    "            #print(f\"Returning zero vector for chromagram size: {file} (shape: {chromagram.shape})\")\n",
    "            chromagram = np.zeros((12,))  # Return a zero vector of size (12,)\n",
    "\n",
    "        # Check the shape of mel spectrogram\n",
    "        if melspectrogram.ndim > 1 and melspectrogram.shape[1] > 1:\n",
    "            #print(f\"Returning zero vector for mel spectrogram size: {file} (shape: {melspectrogram.shape})\")\n",
    "            melspectrogram = np.zeros((128,))  # Return a zero vector of size (128,)\n",
    "\n",
    "        # Check the shape of MFCC coefficients\n",
    "        if mfc_coefficients.ndim > 1 and mfc_coefficients.shape[1] > 1:\n",
    "            #print(f\"Returning zero vector for MFCC size: {file} (shape: {mfc_coefficients.shape})\")\n",
    "            mfc_coefficients = np.zeros((40,))  # Return a zero vector of size (40,)\n",
    "\n",
    "        # use np.hstack to stack our feature arrays horizontally to create a feature matrix\n",
    "        feature_matrix = np.hstack((chromagram, melspectrogram, mfc_coefficients))\n",
    "\n",
    "        return feature_matrix"
   ]
  },
  {
   "cell_type": "markdown",
   "metadata": {
    "id": "c-C6g6psL9hE",
    "pycharm": {
     "name": "#%% md\n"
    }
   },
   "source": [
    "### Load the Dataset and Compute Features\n",
    "We have to understand the labelling of the RAVDESS dataset to find the ground truth emotion for each sample.\n",
    "Each file is labelled with 7 numbers delimited by a \"-\".\n",
    "Most of the numbers describe metadata about the audio samples such as their format (video and/or audio),\n",
    "whether the audio is a song or statement, which of two statements is being read and by which actor.\n",
    "\n",
    "The third and fourth numbers pertain to the emotional quality of each sample. The third number is in the range of 1-8 with each number representing an emotion.\n",
    "The fourth number is either 1 or 2, representing normal (1) or strong (2) emotional intensity.\n",
    "\n",
    "We're going to define a dictionary based on the third number (emotion) and assign an emotion to each number as specified by the RAVDESS dataset:"
   ]
  },
  {
   "cell_type": "code",
   "execution_count": 48,
   "metadata": {
    "id": "z-Pu_fB7L9hF",
    "pycharm": {
     "name": "#%%\n"
    }
   },
   "outputs": [],
   "source": [
    "#Emotions in the RAVDESS dataset\n",
    "emotions_dict ={\n",
    "  '01':'neutral',\n",
    "  '02':'calm',\n",
    "  '03':'happy',\n",
    "  '04':'sad',\n",
    "  '05':'angry',\n",
    "  '06':'fearful',\n",
    "  '07':'disgust',\n",
    "  '08':'surprised'\n",
    "}"
   ]
  },
  {
   "cell_type": "markdown",
   "metadata": {
    "id": "pTlsUOwXL9hF",
    "pycharm": {
     "name": "#%% md\n"
    }
   },
   "source": [
    "Finally, let's load our entire dataset and compute the features of each audio file:"
   ]
  },
  {
   "cell_type": "code",
   "execution_count": 49,
   "metadata": {
    "id": "mAh2AYMpL9hF",
    "pycharm": {
     "name": "#%%\n"
    }
   },
   "outputs": [],
   "source": [
    "import os, glob\n",
    "\n",
    "def load_data(_filepath):\n",
    "    X,y=[],[]\n",
    "    count = 0\n",
    "    for file in glob.glob(_filepath):\n",
    "        file_name=os.path.basename(file)\n",
    "        emotion=emotions_dict[file_name.split(\"-\")[2]]\n",
    "        features = get_features(file)\n",
    "        X.append(features)\n",
    "        y.append(emotion)\n",
    "        count += 1\n",
    "        # '\\r' + end='' results in printing over same line\n",
    "        print('\\r' + f' Processed {count}/{1440} audio samples',end=' ')\n",
    "    # Return arrays to plug into sklearn's cross-validation algorithms\n",
    "    return np.array(X), np.array(y)\n"
   ]
  },
  {
   "cell_type": "markdown",
   "metadata": {
    "id": "3Cf8q4K5L9hG",
    "pycharm": {
     "name": "#%% md\n"
    }
   },
   "source": [
    "Compute the feature matrix and read the emotion labels for the entire dataset.\n",
    "Note that our regressor (independent/explanatory variable), usually denoted X, is named 'features', and our regressand (dependent variable), usually denoted y, is named 'emotions'."
   ]
  },
  {
   "cell_type": "code",
   "execution_count": 50,
   "metadata": {
    "colab": {
     "base_uri": "https://localhost:8080/"
    },
    "id": "XeKE591aL9hG",
    "outputId": "2268473b-f131-4fda-babc-cbfff2d0b042",
    "pycharm": {
     "name": "#%%\n"
    }
   },
   "outputs": [
    {
     "name": "stdout",
     "output_type": "stream",
     "text": [
      " Processed 1439/1440 audio samples "
     ]
    }
   ],
   "source": [
    "test_features, test_emotions = load_data(test_filepath)\n",
    "features, emotions = load_data(filepath)\n",
    "\n",
    "\n"
   ]
  },
  {
   "cell_type": "markdown",
   "metadata": {
    "id": "RVUa7RAuL9hG",
    "pycharm": {
     "name": "#%% md\n"
    }
   },
   "source": [
    "Let's see what the features we extracted look like, **also for saving both the features matrix as well as emotions array, we need to convert them to pandas dataframe.**"
   ]
  },
  {
   "cell_type": "code",
   "execution_count": 51,
   "metadata": {
    "colab": {
     "base_uri": "https://localhost:8080/",
     "height": 381
    },
    "id": "mzxX583yL9hG",
    "outputId": "06d72c72-867f-4357-82fb-5b118c2da91c",
    "pycharm": {
     "name": "#%%\n"
    }
   },
   "outputs": [
    {
     "name": "stdout",
     "output_type": "stream",
     "text": [
      "\n",
      "Audio samples represented: 1439\n",
      "Numerical features extracted per sample: 180\n",
      "\n",
      "Audio samples represented: 8\n",
      "Numerical features extracted per sample: 180\n"
     ]
    },
    {
     "data": {
      "text/html": [
       "<div>\n",
       "<style scoped>\n",
       "    .dataframe tbody tr th:only-of-type {\n",
       "        vertical-align: middle;\n",
       "    }\n",
       "\n",
       "    .dataframe tbody tr th {\n",
       "        vertical-align: top;\n",
       "    }\n",
       "\n",
       "    .dataframe thead th {\n",
       "        text-align: right;\n",
       "    }\n",
       "</style>\n",
       "<table border=\"1\" class=\"dataframe\">\n",
       "  <thead>\n",
       "    <tr style=\"text-align: right;\">\n",
       "      <th></th>\n",
       "      <th>0</th>\n",
       "      <th>1</th>\n",
       "      <th>2</th>\n",
       "      <th>3</th>\n",
       "      <th>4</th>\n",
       "      <th>5</th>\n",
       "      <th>6</th>\n",
       "      <th>7</th>\n",
       "      <th>8</th>\n",
       "      <th>9</th>\n",
       "      <th>...</th>\n",
       "      <th>170</th>\n",
       "      <th>171</th>\n",
       "      <th>172</th>\n",
       "      <th>173</th>\n",
       "      <th>174</th>\n",
       "      <th>175</th>\n",
       "      <th>176</th>\n",
       "      <th>177</th>\n",
       "      <th>178</th>\n",
       "      <th>179</th>\n",
       "    </tr>\n",
       "  </thead>\n",
       "  <tbody>\n",
       "    <tr>\n",
       "      <th>0</th>\n",
       "      <td>0.976712</td>\n",
       "      <td>0.983624</td>\n",
       "      <td>0.991540</td>\n",
       "      <td>0.998094</td>\n",
       "      <td>1.0</td>\n",
       "      <td>0.943567</td>\n",
       "      <td>0.918690</td>\n",
       "      <td>0.929149</td>\n",
       "      <td>0.941190</td>\n",
       "      <td>0.953230</td>\n",
       "      <td>...</td>\n",
       "      <td>0.000000</td>\n",
       "      <td>0.000000</td>\n",
       "      <td>0.000000</td>\n",
       "      <td>0.000000</td>\n",
       "      <td>0.000000</td>\n",
       "      <td>0.00000</td>\n",
       "      <td>0.000000</td>\n",
       "      <td>0.000000</td>\n",
       "      <td>0.00000</td>\n",
       "      <td>0.00000</td>\n",
       "    </tr>\n",
       "    <tr>\n",
       "      <th>1</th>\n",
       "      <td>0.934672</td>\n",
       "      <td>0.956937</td>\n",
       "      <td>0.978469</td>\n",
       "      <td>0.997768</td>\n",
       "      <td>1.0</td>\n",
       "      <td>0.849963</td>\n",
       "      <td>0.783027</td>\n",
       "      <td>0.807583</td>\n",
       "      <td>0.834734</td>\n",
       "      <td>0.861851</td>\n",
       "      <td>...</td>\n",
       "      <td>0.000000</td>\n",
       "      <td>0.000000</td>\n",
       "      <td>0.000000</td>\n",
       "      <td>0.000000</td>\n",
       "      <td>0.000000</td>\n",
       "      <td>0.00000</td>\n",
       "      <td>0.000000</td>\n",
       "      <td>0.000000</td>\n",
       "      <td>0.00000</td>\n",
       "      <td>0.00000</td>\n",
       "    </tr>\n",
       "    <tr>\n",
       "      <th>2</th>\n",
       "      <td>0.960639</td>\n",
       "      <td>0.973535</td>\n",
       "      <td>0.986761</td>\n",
       "      <td>0.998104</td>\n",
       "      <td>1.0</td>\n",
       "      <td>0.908195</td>\n",
       "      <td>0.867187</td>\n",
       "      <td>0.882680</td>\n",
       "      <td>0.900334</td>\n",
       "      <td>0.918134</td>\n",
       "      <td>...</td>\n",
       "      <td>0.000000</td>\n",
       "      <td>0.000000</td>\n",
       "      <td>0.000000</td>\n",
       "      <td>0.000000</td>\n",
       "      <td>0.000000</td>\n",
       "      <td>0.00000</td>\n",
       "      <td>0.000000</td>\n",
       "      <td>0.000000</td>\n",
       "      <td>0.00000</td>\n",
       "      <td>0.00000</td>\n",
       "    </tr>\n",
       "    <tr>\n",
       "      <th>3</th>\n",
       "      <td>0.943282</td>\n",
       "      <td>0.962459</td>\n",
       "      <td>0.981264</td>\n",
       "      <td>0.997904</td>\n",
       "      <td>1.0</td>\n",
       "      <td>0.869204</td>\n",
       "      <td>0.810795</td>\n",
       "      <td>0.832322</td>\n",
       "      <td>0.856354</td>\n",
       "      <td>0.880442</td>\n",
       "      <td>...</td>\n",
       "      <td>0.000000</td>\n",
       "      <td>0.000000</td>\n",
       "      <td>0.000000</td>\n",
       "      <td>0.000000</td>\n",
       "      <td>0.000000</td>\n",
       "      <td>0.00000</td>\n",
       "      <td>0.000000</td>\n",
       "      <td>0.000000</td>\n",
       "      <td>0.00000</td>\n",
       "      <td>0.00000</td>\n",
       "    </tr>\n",
       "    <tr>\n",
       "      <th>4</th>\n",
       "      <td>0.989099</td>\n",
       "      <td>0.991594</td>\n",
       "      <td>0.995378</td>\n",
       "      <td>0.998286</td>\n",
       "      <td>1.0</td>\n",
       "      <td>0.966204</td>\n",
       "      <td>0.952211</td>\n",
       "      <td>0.960209</td>\n",
       "      <td>0.969250</td>\n",
       "      <td>0.977988</td>\n",
       "      <td>...</td>\n",
       "      <td>-0.069583</td>\n",
       "      <td>-0.001285</td>\n",
       "      <td>-0.080037</td>\n",
       "      <td>0.023342</td>\n",
       "      <td>-0.047924</td>\n",
       "      <td>-0.00738</td>\n",
       "      <td>-0.048946</td>\n",
       "      <td>-0.057584</td>\n",
       "      <td>-0.02681</td>\n",
       "      <td>-0.06518</td>\n",
       "    </tr>\n",
       "    <tr>\n",
       "      <th>5</th>\n",
       "      <td>0.965529</td>\n",
       "      <td>0.976624</td>\n",
       "      <td>0.988253</td>\n",
       "      <td>0.998123</td>\n",
       "      <td>1.0</td>\n",
       "      <td>0.919182</td>\n",
       "      <td>0.883125</td>\n",
       "      <td>0.896974</td>\n",
       "      <td>0.912840</td>\n",
       "      <td>0.928840</td>\n",
       "      <td>...</td>\n",
       "      <td>0.000000</td>\n",
       "      <td>0.000000</td>\n",
       "      <td>0.000000</td>\n",
       "      <td>0.000000</td>\n",
       "      <td>0.000000</td>\n",
       "      <td>0.00000</td>\n",
       "      <td>0.000000</td>\n",
       "      <td>0.000000</td>\n",
       "      <td>0.00000</td>\n",
       "      <td>0.00000</td>\n",
       "    </tr>\n",
       "    <tr>\n",
       "      <th>6</th>\n",
       "      <td>0.966158</td>\n",
       "      <td>0.977020</td>\n",
       "      <td>0.988443</td>\n",
       "      <td>0.998124</td>\n",
       "      <td>1.0</td>\n",
       "      <td>0.920590</td>\n",
       "      <td>0.885171</td>\n",
       "      <td>0.898813</td>\n",
       "      <td>0.914451</td>\n",
       "      <td>0.930220</td>\n",
       "      <td>...</td>\n",
       "      <td>0.000000</td>\n",
       "      <td>0.000000</td>\n",
       "      <td>0.000000</td>\n",
       "      <td>0.000000</td>\n",
       "      <td>0.000000</td>\n",
       "      <td>0.00000</td>\n",
       "      <td>0.000000</td>\n",
       "      <td>0.000000</td>\n",
       "      <td>0.00000</td>\n",
       "      <td>0.00000</td>\n",
       "    </tr>\n",
       "    <tr>\n",
       "      <th>7</th>\n",
       "      <td>0.943293</td>\n",
       "      <td>0.962466</td>\n",
       "      <td>0.981267</td>\n",
       "      <td>0.997904</td>\n",
       "      <td>1.0</td>\n",
       "      <td>0.869228</td>\n",
       "      <td>0.810830</td>\n",
       "      <td>0.832353</td>\n",
       "      <td>0.856380</td>\n",
       "      <td>0.880465</td>\n",
       "      <td>...</td>\n",
       "      <td>0.000000</td>\n",
       "      <td>0.000000</td>\n",
       "      <td>0.000000</td>\n",
       "      <td>0.000000</td>\n",
       "      <td>0.000000</td>\n",
       "      <td>0.00000</td>\n",
       "      <td>0.000000</td>\n",
       "      <td>0.000000</td>\n",
       "      <td>0.00000</td>\n",
       "      <td>0.00000</td>\n",
       "    </tr>\n",
       "  </tbody>\n",
       "</table>\n",
       "<p>8 rows × 180 columns</p>\n",
       "</div>"
      ],
      "text/plain": [
       "        0         1         2         3    4         5         6         7    \\\n",
       "0  0.976712  0.983624  0.991540  0.998094  1.0  0.943567  0.918690  0.929149   \n",
       "1  0.934672  0.956937  0.978469  0.997768  1.0  0.849963  0.783027  0.807583   \n",
       "2  0.960639  0.973535  0.986761  0.998104  1.0  0.908195  0.867187  0.882680   \n",
       "3  0.943282  0.962459  0.981264  0.997904  1.0  0.869204  0.810795  0.832322   \n",
       "4  0.989099  0.991594  0.995378  0.998286  1.0  0.966204  0.952211  0.960209   \n",
       "5  0.965529  0.976624  0.988253  0.998123  1.0  0.919182  0.883125  0.896974   \n",
       "6  0.966158  0.977020  0.988443  0.998124  1.0  0.920590  0.885171  0.898813   \n",
       "7  0.943293  0.962466  0.981267  0.997904  1.0  0.869228  0.810830  0.832353   \n",
       "\n",
       "        8         9    ...       170       171       172       173       174  \\\n",
       "0  0.941190  0.953230  ...  0.000000  0.000000  0.000000  0.000000  0.000000   \n",
       "1  0.834734  0.861851  ...  0.000000  0.000000  0.000000  0.000000  0.000000   \n",
       "2  0.900334  0.918134  ...  0.000000  0.000000  0.000000  0.000000  0.000000   \n",
       "3  0.856354  0.880442  ...  0.000000  0.000000  0.000000  0.000000  0.000000   \n",
       "4  0.969250  0.977988  ... -0.069583 -0.001285 -0.080037  0.023342 -0.047924   \n",
       "5  0.912840  0.928840  ...  0.000000  0.000000  0.000000  0.000000  0.000000   \n",
       "6  0.914451  0.930220  ...  0.000000  0.000000  0.000000  0.000000  0.000000   \n",
       "7  0.856380  0.880465  ...  0.000000  0.000000  0.000000  0.000000  0.000000   \n",
       "\n",
       "       175       176       177      178      179  \n",
       "0  0.00000  0.000000  0.000000  0.00000  0.00000  \n",
       "1  0.00000  0.000000  0.000000  0.00000  0.00000  \n",
       "2  0.00000  0.000000  0.000000  0.00000  0.00000  \n",
       "3  0.00000  0.000000  0.000000  0.00000  0.00000  \n",
       "4 -0.00738 -0.048946 -0.057584 -0.02681 -0.06518  \n",
       "5  0.00000  0.000000  0.000000  0.00000  0.00000  \n",
       "6  0.00000  0.000000  0.000000  0.00000  0.00000  \n",
       "7  0.00000  0.000000  0.000000  0.00000  0.00000  \n",
       "\n",
       "[8 rows x 180 columns]"
      ]
     },
     "execution_count": 51,
     "metadata": {},
     "output_type": "execute_result"
    }
   ],
   "source": [
    "print(f'\\nAudio samples represented: {features.shape[0]}')\n",
    "print(f'Numerical features extracted per sample: {features.shape[1]}')\n",
    "features_df = pd.DataFrame(features) # make it pretty for display\n",
    "\n",
    "\n",
    "#making dataframe for emotions as well\n",
    "emotions_df = pd.DataFrame(emotions) # make it pretty for display\n",
    "\n",
    "features_df\n",
    "\n",
    "print(f'\\nAudio samples represented: {test_features.shape[0]}')\n",
    "print(f'Numerical features extracted per sample: {test_features.shape[1]}')\n",
    "test_features_df = pd.DataFrame(test_features) # make it pretty for display\n",
    "\n",
    "#making dataframe for emotions as well\n",
    "test_emotions_df = pd.DataFrame(test_emotions) # make it pretty for display\n",
    "\n",
    "test_features_df\n"
   ]
  },
  {
   "cell_type": "markdown",
   "metadata": {
    "id": "Tq083zLEL9hH",
    "pycharm": {
     "name": "#%% md\n"
    }
   },
   "source": [
    "We have a matrix of dim 1435 x 180. Looks good - 1435 audio samples, one per row, with a series of\n",
    "180 numerical features for each sample.\n",
    "\n",
    "**Each of the 1435 feature arrays has 180 features composed of 12 chromagram pitch classes + 128 mel spectrogram bands + 40 MFC coefficients.**"
   ]
  },
  {
   "cell_type": "markdown",
   "metadata": {
    "id": "VF2SggHTDqbQ"
   },
   "source": [
    "Now we will save our features matrix and emotions array in excel file we dont have to compute them everytime we run the notebook, we can just load them from the excel file whenever required. Make sure to change the path to according to your drive."
   ]
  },
  {
   "cell_type": "code",
   "execution_count": 52,
   "metadata": {
    "id": "u6H8hc6gDtbp"
   },
   "outputs": [],
   "source": [
    "features_df.to_csv('featuresRavdess.csv')\n",
    "emotions_df.to_csv('emotionsRavdess.csv')\n",
    "\n",
    "test_features_df.to_csv('testFeaturesRavdess.csv')\n",
    "test_emotions_df.to_csv('testEmotionsRavdess.csv')\n"
   ]
  },
  {
   "cell_type": "markdown",
   "metadata": {
    "id": "VpE5m-5aEyoB"
   },
   "source": [
    "## Load pre-saved Dataset"
   ]
  },
  {
   "cell_type": "markdown",
   "metadata": {
    "id": "hHPB7dCqEotR"
   },
   "source": [
    "Once saved you only need to load them later by running the cell below, and **skip every cell above** except for the one in which we import libraries."
   ]
  },
  {
   "cell_type": "code",
   "execution_count": 53,
   "metadata": {
    "id": "-8nlJCESEn56"
   },
   "outputs": [],
   "source": [
    "features=pd.read_csv('featuresRavdess.csv',index_col=0)\n",
    "emotions=pd.read_csv('emotionsRavdess.csv',index_col=0)\n",
    "\n",
    "test_features=pd.read_csv('testFeaturesRavdess.csv',index_col=0)\n",
    "test_emotions=pd.read_csv('testEmotionsRavdess.csv',index_col=0)"
   ]
  },
  {
   "cell_type": "markdown",
   "metadata": {
    "id": "4x2dXjybD1NM"
   },
   "source": [
    "let's see if they have been loaded correctly!"
   ]
  },
  {
   "cell_type": "code",
   "execution_count": 54,
   "metadata": {
    "colab": {
     "base_uri": "https://localhost:8080/",
     "height": 235
    },
    "id": "B5Xo1SVMD0qR",
    "outputId": "87791a7e-b2af-4c69-8a71-04ac346504fd"
   },
   "outputs": [
    {
     "data": {
      "text/html": [
       "<div>\n",
       "<style scoped>\n",
       "    .dataframe tbody tr th:only-of-type {\n",
       "        vertical-align: middle;\n",
       "    }\n",
       "\n",
       "    .dataframe tbody tr th {\n",
       "        vertical-align: top;\n",
       "    }\n",
       "\n",
       "    .dataframe thead th {\n",
       "        text-align: right;\n",
       "    }\n",
       "</style>\n",
       "<table border=\"1\" class=\"dataframe\">\n",
       "  <thead>\n",
       "    <tr style=\"text-align: right;\">\n",
       "      <th></th>\n",
       "      <th>0</th>\n",
       "      <th>1</th>\n",
       "      <th>2</th>\n",
       "      <th>3</th>\n",
       "      <th>4</th>\n",
       "      <th>5</th>\n",
       "      <th>6</th>\n",
       "      <th>7</th>\n",
       "      <th>8</th>\n",
       "      <th>9</th>\n",
       "      <th>...</th>\n",
       "      <th>170</th>\n",
       "      <th>171</th>\n",
       "      <th>172</th>\n",
       "      <th>173</th>\n",
       "      <th>174</th>\n",
       "      <th>175</th>\n",
       "      <th>176</th>\n",
       "      <th>177</th>\n",
       "      <th>178</th>\n",
       "      <th>179</th>\n",
       "    </tr>\n",
       "  </thead>\n",
       "  <tbody>\n",
       "    <tr>\n",
       "      <th>0</th>\n",
       "      <td>0.552245</td>\n",
       "      <td>0.504338</td>\n",
       "      <td>0.512779</td>\n",
       "      <td>0.550540</td>\n",
       "      <td>0.572175</td>\n",
       "      <td>0.615567</td>\n",
       "      <td>0.603708</td>\n",
       "      <td>0.573230</td>\n",
       "      <td>0.593454</td>\n",
       "      <td>0.603834</td>\n",
       "      <td>...</td>\n",
       "      <td>-3.543537</td>\n",
       "      <td>-0.912676</td>\n",
       "      <td>-1.747537</td>\n",
       "      <td>-2.299447</td>\n",
       "      <td>-0.025205</td>\n",
       "      <td>2.449470</td>\n",
       "      <td>2.116510</td>\n",
       "      <td>3.361054</td>\n",
       "      <td>2.086241</td>\n",
       "      <td>0.376519</td>\n",
       "    </tr>\n",
       "    <tr>\n",
       "      <th>1</th>\n",
       "      <td>0.550732</td>\n",
       "      <td>0.508484</td>\n",
       "      <td>0.466809</td>\n",
       "      <td>0.438485</td>\n",
       "      <td>0.428218</td>\n",
       "      <td>0.445352</td>\n",
       "      <td>0.444528</td>\n",
       "      <td>0.444478</td>\n",
       "      <td>0.500419</td>\n",
       "      <td>0.551672</td>\n",
       "      <td>...</td>\n",
       "      <td>2.333152</td>\n",
       "      <td>3.619089</td>\n",
       "      <td>0.793563</td>\n",
       "      <td>0.743431</td>\n",
       "      <td>0.660723</td>\n",
       "      <td>-0.254914</td>\n",
       "      <td>-0.967536</td>\n",
       "      <td>0.378563</td>\n",
       "      <td>-0.338074</td>\n",
       "      <td>-0.463241</td>\n",
       "    </tr>\n",
       "    <tr>\n",
       "      <th>2</th>\n",
       "      <td>0.672768</td>\n",
       "      <td>0.601451</td>\n",
       "      <td>0.548317</td>\n",
       "      <td>0.477805</td>\n",
       "      <td>0.453192</td>\n",
       "      <td>0.516665</td>\n",
       "      <td>0.570100</td>\n",
       "      <td>0.599750</td>\n",
       "      <td>0.647746</td>\n",
       "      <td>0.692148</td>\n",
       "      <td>...</td>\n",
       "      <td>0.283253</td>\n",
       "      <td>0.218117</td>\n",
       "      <td>-1.928165</td>\n",
       "      <td>-2.486515</td>\n",
       "      <td>-0.530147</td>\n",
       "      <td>0.354905</td>\n",
       "      <td>0.463640</td>\n",
       "      <td>0.581006</td>\n",
       "      <td>-2.091462</td>\n",
       "      <td>-1.899596</td>\n",
       "    </tr>\n",
       "    <tr>\n",
       "      <th>3</th>\n",
       "      <td>0.602309</td>\n",
       "      <td>0.605448</td>\n",
       "      <td>0.558788</td>\n",
       "      <td>0.529441</td>\n",
       "      <td>0.546189</td>\n",
       "      <td>0.568049</td>\n",
       "      <td>0.566027</td>\n",
       "      <td>0.523464</td>\n",
       "      <td>0.526789</td>\n",
       "      <td>0.552809</td>\n",
       "      <td>...</td>\n",
       "      <td>2.176565</td>\n",
       "      <td>3.904047</td>\n",
       "      <td>0.980935</td>\n",
       "      <td>1.160923</td>\n",
       "      <td>-0.694902</td>\n",
       "      <td>-0.969963</td>\n",
       "      <td>-0.234802</td>\n",
       "      <td>0.941701</td>\n",
       "      <td>0.695973</td>\n",
       "      <td>0.430566</td>\n",
       "    </tr>\n",
       "    <tr>\n",
       "      <th>4</th>\n",
       "      <td>0.556555</td>\n",
       "      <td>0.503434</td>\n",
       "      <td>0.473118</td>\n",
       "      <td>0.479222</td>\n",
       "      <td>0.495470</td>\n",
       "      <td>0.522490</td>\n",
       "      <td>0.532196</td>\n",
       "      <td>0.540681</td>\n",
       "      <td>0.545616</td>\n",
       "      <td>0.512521</td>\n",
       "      <td>...</td>\n",
       "      <td>-1.306030</td>\n",
       "      <td>0.050261</td>\n",
       "      <td>-0.992538</td>\n",
       "      <td>-0.213367</td>\n",
       "      <td>-0.351018</td>\n",
       "      <td>-1.462262</td>\n",
       "      <td>-2.454565</td>\n",
       "      <td>-1.044801</td>\n",
       "      <td>-0.298479</td>\n",
       "      <td>0.118208</td>\n",
       "    </tr>\n",
       "  </tbody>\n",
       "</table>\n",
       "<p>5 rows × 180 columns</p>\n",
       "</div>"
      ],
      "text/plain": [
       "          0         1         2         3         4         5         6  \\\n",
       "0  0.552245  0.504338  0.512779  0.550540  0.572175  0.615567  0.603708   \n",
       "1  0.550732  0.508484  0.466809  0.438485  0.428218  0.445352  0.444528   \n",
       "2  0.672768  0.601451  0.548317  0.477805  0.453192  0.516665  0.570100   \n",
       "3  0.602309  0.605448  0.558788  0.529441  0.546189  0.568049  0.566027   \n",
       "4  0.556555  0.503434  0.473118  0.479222  0.495470  0.522490  0.532196   \n",
       "\n",
       "          7         8         9  ...       170       171       172       173  \\\n",
       "0  0.573230  0.593454  0.603834  ... -3.543537 -0.912676 -1.747537 -2.299447   \n",
       "1  0.444478  0.500419  0.551672  ...  2.333152  3.619089  0.793563  0.743431   \n",
       "2  0.599750  0.647746  0.692148  ...  0.283253  0.218117 -1.928165 -2.486515   \n",
       "3  0.523464  0.526789  0.552809  ...  2.176565  3.904047  0.980935  1.160923   \n",
       "4  0.540681  0.545616  0.512521  ... -1.306030  0.050261 -0.992538 -0.213367   \n",
       "\n",
       "        174       175       176       177       178       179  \n",
       "0 -0.025205  2.449470  2.116510  3.361054  2.086241  0.376519  \n",
       "1  0.660723 -0.254914 -0.967536  0.378563 -0.338074 -0.463241  \n",
       "2 -0.530147  0.354905  0.463640  0.581006 -2.091462 -1.899596  \n",
       "3 -0.694902 -0.969963 -0.234802  0.941701  0.695973  0.430566  \n",
       "4 -0.351018 -1.462262 -2.454565 -1.044801 -0.298479  0.118208  \n",
       "\n",
       "[5 rows x 180 columns]"
      ]
     },
     "execution_count": 54,
     "metadata": {},
     "output_type": "execute_result"
    }
   ],
   "source": [
    "features.head()"
   ]
  },
  {
   "cell_type": "code",
   "execution_count": 55,
   "metadata": {},
   "outputs": [
    {
     "data": {
      "text/html": [
       "<div>\n",
       "<style scoped>\n",
       "    .dataframe tbody tr th:only-of-type {\n",
       "        vertical-align: middle;\n",
       "    }\n",
       "\n",
       "    .dataframe tbody tr th {\n",
       "        vertical-align: top;\n",
       "    }\n",
       "\n",
       "    .dataframe thead th {\n",
       "        text-align: right;\n",
       "    }\n",
       "</style>\n",
       "<table border=\"1\" class=\"dataframe\">\n",
       "  <thead>\n",
       "    <tr style=\"text-align: right;\">\n",
       "      <th></th>\n",
       "      <th>0</th>\n",
       "      <th>1</th>\n",
       "      <th>2</th>\n",
       "      <th>3</th>\n",
       "      <th>4</th>\n",
       "      <th>5</th>\n",
       "      <th>6</th>\n",
       "      <th>7</th>\n",
       "      <th>8</th>\n",
       "      <th>9</th>\n",
       "      <th>...</th>\n",
       "      <th>170</th>\n",
       "      <th>171</th>\n",
       "      <th>172</th>\n",
       "      <th>173</th>\n",
       "      <th>174</th>\n",
       "      <th>175</th>\n",
       "      <th>176</th>\n",
       "      <th>177</th>\n",
       "      <th>178</th>\n",
       "      <th>179</th>\n",
       "    </tr>\n",
       "  </thead>\n",
       "  <tbody>\n",
       "    <tr>\n",
       "      <th>0</th>\n",
       "      <td>0.976712</td>\n",
       "      <td>0.983624</td>\n",
       "      <td>0.991540</td>\n",
       "      <td>0.998094</td>\n",
       "      <td>1.0</td>\n",
       "      <td>0.943567</td>\n",
       "      <td>0.918690</td>\n",
       "      <td>0.929149</td>\n",
       "      <td>0.941190</td>\n",
       "      <td>0.953230</td>\n",
       "      <td>...</td>\n",
       "      <td>0.000000</td>\n",
       "      <td>0.000000</td>\n",
       "      <td>0.000000</td>\n",
       "      <td>0.000000</td>\n",
       "      <td>0.000000</td>\n",
       "      <td>0.00000</td>\n",
       "      <td>0.000000</td>\n",
       "      <td>0.000000</td>\n",
       "      <td>0.00000</td>\n",
       "      <td>0.00000</td>\n",
       "    </tr>\n",
       "    <tr>\n",
       "      <th>1</th>\n",
       "      <td>0.934672</td>\n",
       "      <td>0.956937</td>\n",
       "      <td>0.978469</td>\n",
       "      <td>0.997768</td>\n",
       "      <td>1.0</td>\n",
       "      <td>0.849963</td>\n",
       "      <td>0.783027</td>\n",
       "      <td>0.807583</td>\n",
       "      <td>0.834734</td>\n",
       "      <td>0.861851</td>\n",
       "      <td>...</td>\n",
       "      <td>0.000000</td>\n",
       "      <td>0.000000</td>\n",
       "      <td>0.000000</td>\n",
       "      <td>0.000000</td>\n",
       "      <td>0.000000</td>\n",
       "      <td>0.00000</td>\n",
       "      <td>0.000000</td>\n",
       "      <td>0.000000</td>\n",
       "      <td>0.00000</td>\n",
       "      <td>0.00000</td>\n",
       "    </tr>\n",
       "    <tr>\n",
       "      <th>2</th>\n",
       "      <td>0.960639</td>\n",
       "      <td>0.973535</td>\n",
       "      <td>0.986761</td>\n",
       "      <td>0.998104</td>\n",
       "      <td>1.0</td>\n",
       "      <td>0.908195</td>\n",
       "      <td>0.867187</td>\n",
       "      <td>0.882680</td>\n",
       "      <td>0.900334</td>\n",
       "      <td>0.918134</td>\n",
       "      <td>...</td>\n",
       "      <td>0.000000</td>\n",
       "      <td>0.000000</td>\n",
       "      <td>0.000000</td>\n",
       "      <td>0.000000</td>\n",
       "      <td>0.000000</td>\n",
       "      <td>0.00000</td>\n",
       "      <td>0.000000</td>\n",
       "      <td>0.000000</td>\n",
       "      <td>0.00000</td>\n",
       "      <td>0.00000</td>\n",
       "    </tr>\n",
       "    <tr>\n",
       "      <th>3</th>\n",
       "      <td>0.943282</td>\n",
       "      <td>0.962459</td>\n",
       "      <td>0.981264</td>\n",
       "      <td>0.997904</td>\n",
       "      <td>1.0</td>\n",
       "      <td>0.869204</td>\n",
       "      <td>0.810795</td>\n",
       "      <td>0.832322</td>\n",
       "      <td>0.856354</td>\n",
       "      <td>0.880442</td>\n",
       "      <td>...</td>\n",
       "      <td>0.000000</td>\n",
       "      <td>0.000000</td>\n",
       "      <td>0.000000</td>\n",
       "      <td>0.000000</td>\n",
       "      <td>0.000000</td>\n",
       "      <td>0.00000</td>\n",
       "      <td>0.000000</td>\n",
       "      <td>0.000000</td>\n",
       "      <td>0.00000</td>\n",
       "      <td>0.00000</td>\n",
       "    </tr>\n",
       "    <tr>\n",
       "      <th>4</th>\n",
       "      <td>0.989099</td>\n",
       "      <td>0.991594</td>\n",
       "      <td>0.995378</td>\n",
       "      <td>0.998286</td>\n",
       "      <td>1.0</td>\n",
       "      <td>0.966204</td>\n",
       "      <td>0.952211</td>\n",
       "      <td>0.960209</td>\n",
       "      <td>0.969250</td>\n",
       "      <td>0.977988</td>\n",
       "      <td>...</td>\n",
       "      <td>-0.069583</td>\n",
       "      <td>-0.001285</td>\n",
       "      <td>-0.080037</td>\n",
       "      <td>0.023342</td>\n",
       "      <td>-0.047924</td>\n",
       "      <td>-0.00738</td>\n",
       "      <td>-0.048946</td>\n",
       "      <td>-0.057584</td>\n",
       "      <td>-0.02681</td>\n",
       "      <td>-0.06518</td>\n",
       "    </tr>\n",
       "  </tbody>\n",
       "</table>\n",
       "<p>5 rows × 180 columns</p>\n",
       "</div>"
      ],
      "text/plain": [
       "          0         1         2         3    4         5         6         7  \\\n",
       "0  0.976712  0.983624  0.991540  0.998094  1.0  0.943567  0.918690  0.929149   \n",
       "1  0.934672  0.956937  0.978469  0.997768  1.0  0.849963  0.783027  0.807583   \n",
       "2  0.960639  0.973535  0.986761  0.998104  1.0  0.908195  0.867187  0.882680   \n",
       "3  0.943282  0.962459  0.981264  0.997904  1.0  0.869204  0.810795  0.832322   \n",
       "4  0.989099  0.991594  0.995378  0.998286  1.0  0.966204  0.952211  0.960209   \n",
       "\n",
       "          8         9  ...       170       171       172       173       174  \\\n",
       "0  0.941190  0.953230  ...  0.000000  0.000000  0.000000  0.000000  0.000000   \n",
       "1  0.834734  0.861851  ...  0.000000  0.000000  0.000000  0.000000  0.000000   \n",
       "2  0.900334  0.918134  ...  0.000000  0.000000  0.000000  0.000000  0.000000   \n",
       "3  0.856354  0.880442  ...  0.000000  0.000000  0.000000  0.000000  0.000000   \n",
       "4  0.969250  0.977988  ... -0.069583 -0.001285 -0.080037  0.023342 -0.047924   \n",
       "\n",
       "       175       176       177      178      179  \n",
       "0  0.00000  0.000000  0.000000  0.00000  0.00000  \n",
       "1  0.00000  0.000000  0.000000  0.00000  0.00000  \n",
       "2  0.00000  0.000000  0.000000  0.00000  0.00000  \n",
       "3  0.00000  0.000000  0.000000  0.00000  0.00000  \n",
       "4 -0.00738 -0.048946 -0.057584 -0.02681 -0.06518  \n",
       "\n",
       "[5 rows x 180 columns]"
      ]
     },
     "execution_count": 55,
     "metadata": {},
     "output_type": "execute_result"
    }
   ],
   "source": [
    "test_features.head()"
   ]
  },
  {
   "cell_type": "markdown",
   "metadata": {
    "id": "esInVDq7L9hT"
   },
   "source": [
    "Let's see the class balance of our dataset:"
   ]
  },
  {
   "cell_type": "code",
   "execution_count": 56,
   "metadata": {
    "colab": {
     "base_uri": "https://localhost:8080/",
     "height": 397
    },
    "id": "Si3OFQe7L9hU",
    "outputId": "5ab72c33-8d57-413f-c3b0-7400164219d1"
   },
   "outputs": [
    {
     "data": {
      "image/png": "[encoded data removed]",
      "text/plain": [
       "<Figure size 3500x400 with 1 Axes>"
      ]
     },
     "metadata": {},
     "output_type": "display_data"
    }
   ],
   "source": [
    "# plot emotions\n",
    "\n",
    "plt.figure(figsize=(35,4))\n",
    "plt.subplot(1,3,1)\n",
    "#np.unique returns ordered list of unique elements and count of each element\n",
    "emotion_list, count = np.unique(emotions, return_counts=True)\n",
    "plt.bar(x=range(8), height=count)\n",
    "plt.xticks(ticks=range(8), labels = [emotion for emotion in emotion_list],fontsize=10)\n",
    "plt.xlabel('Emotion')\n",
    "plt.tick_params(labelsize=16)\n",
    "plt.ylabel('Number of Samples')\n",
    "plt.title(\"RAVDESS Dataset Balance\")\n",
    "plt.show()"
   ]
  },
  {
   "cell_type": "markdown",
   "metadata": {
    "id": "Mw_wKC8WL9hV"
   },
   "source": [
    "**Great, the classes appear to be balanced. That makes the task easier.** All emotions _except_ the neutral class have a \"strong\" intensity so there are half as many neutral samples. That might have an impact."
   ]
  },
  {
   "cell_type": "markdown",
   "metadata": {},
   "source": [
    "Class Balance for Test Features"
   ]
  },
  {
   "cell_type": "code",
   "execution_count": 57,
   "metadata": {},
   "outputs": [
    {
     "data": {
      "image/png": "[encoded data removed]",
      "text/plain": [
       "<Figure size 3500x400 with 1 Axes>"
      ]
     },
     "metadata": {},
     "output_type": "display_data"
    }
   ],
   "source": [
    "# plot emotions\n",
    "plt.figure(figsize=(35,4))\n",
    "plt.subplot(1,3,1)\n",
    "#np.unique returns ordered list of unique elements and count of each element\n",
    "emotion_list, count = np.unique(test_emotions, return_counts=True)\n",
    "plt.bar(x=range(8), height=count)\n",
    "plt.xticks(ticks=range(8), labels = [emotion for emotion in emotion_list],fontsize=10)\n",
    "plt.xlabel('Emotion')\n",
    "plt.tick_params(labelsize=16)\n",
    "plt.ylabel('Number of Samples')\n",
    "plt.title(\"Actor 25 Dataset Balance\")\n",
    "plt.show()"
   ]
  },
  {
   "cell_type": "markdown",
   "metadata": {
    "id": "WhtlYshOL9hV"
   },
   "source": [
    "### Feature Scaling\n",
    "To properly train most machine learning models on _most_ datasets, we first need to scale our features. **This is crucial for models which compute distances between data, and especially critical for DNNs**: If there is a difference in the variance of features simply because of their possible range of values, then a model will learn that the features with the greatest variance are the most important. However, **differences in the variance of unscaled features belonging to different and unknown distributions is an inappropriate measure of importance.** Let's check our features' properties:"
   ]
  },
  {
   "cell_type": "code",
   "execution_count": 60,
   "metadata": {
    "colab": {
     "base_uri": "https://localhost:8080/"
    },
    "id": "_IUm1DLwL9hW",
    "outputId": "3b60fb11-d4ff-414e-d262-33466bce7e82"
   },
   "outputs": [
    {
     "name": "stdout",
     "output_type": "stream",
     "text": [
      "12 Chromagram features:           min = 0.310,     max = 1.000,     mean = 0.667,     deviation = 0.087\n",
      "\n",
      "128 Mel Spectrogram features:     min = 0.000,     max = 149.208,     mean = 0.187,     deviation = 1.598\n",
      "\n",
      "40 MFCC features:                 min = -1131.371,    max = 115.126,    mean = -14.674,    deviation = 98.873\n"
     ]
    }
   ],
   "source": [
    "# We would usually use df.describe(), but it provides a bit of a mess of information we don't need at the moment.\n",
    "def print_features(df):\n",
    "    # Check chromagram feature values\n",
    "    features_df_chromagram = df.loc[:,:11]\n",
    "    chroma_min = features_df_chromagram.min().min()\n",
    "    chroma_max = features_df_chromagram.max().max()\n",
    "    # stack all features into a single series so we don't get a mean of means or stdev of stdevs\n",
    "    chroma_mean = features_df_chromagram.stack().mean()\n",
    "    chroma_stdev = features_df_chromagram.stack().std()\n",
    "    print(f'12 Chromagram features:       \\\n",
    "    min = {chroma_min:.3f}, \\\n",
    "    max = {chroma_max:.3f}, \\\n",
    "    mean = {chroma_mean:.3f}, \\\n",
    "    deviation = {chroma_stdev:.3f}')\n",
    "\n",
    "    # Check mel spectrogram feature values\n",
    "    features_df_melspectrogram = df.loc[:,12:139]\n",
    "    mel_min = features_df_melspectrogram.min().min()\n",
    "    mel_max = features_df_melspectrogram.max().max()\n",
    "    # stack all features into a single series so we don't get a mean of means or stdev of stdevs\n",
    "    mel_mean = features_df_melspectrogram.stack().mean()\n",
    "    mel_stdev = features_df_melspectrogram.stack().std()\n",
    "    print(f'\\n128 Mel Spectrogram features: \\\n",
    "    min = {mel_min:.3f}, \\\n",
    "    max = {mel_max:.3f}, \\\n",
    "    mean = {mel_mean:.3f}, \\\n",
    "    deviation = {mel_stdev:.3f}')\n",
    "\n",
    "    # Check MFCC feature values\n",
    "    features_df_mfcc = df.loc[:,140:179]\n",
    "    mfcc_min = features_df_mfcc.min().min()\n",
    "    mfcc_max = features_df_mfcc.max().max()\n",
    "    # stack all features into a single series so we don't get a mean of means or stdev of stdevs\n",
    "    mfcc_mean = features_df_mfcc.stack().mean()\n",
    "    mfcc_stdev = features_df_mfcc.stack().std()\n",
    "    print(f'\\n40 MFCC features:             \\\n",
    "    min = {mfcc_min:.3f},\\\n",
    "    max = {mfcc_max:.3f},\\\n",
    "    mean = {mfcc_mean:.3f},\\\n",
    "    deviation = {mfcc_stdev:.3f}')\n",
    "\n",
    "print_features(features_df)\n",
    "\n"
   ]
  },
  {
   "cell_type": "code",
   "execution_count": 61,
   "metadata": {
    "id": "3ha1FxBSCpqA"
   },
   "outputs": [
    {
     "name": "stdout",
     "output_type": "stream",
     "text": [
      "12 Chromagram features:           min = 0.783,     max = 1.000,     mean = 0.938,     deviation = 0.055\n",
      "\n",
      "128 Mel Spectrogram features:     min = 0.000,     max = 0.000,     mean = 0.000,     deviation = 0.000\n",
      "\n",
      "40 MFCC features:                 min = -1131.371,    max = 11.132,    mean = -28.175,    deviation = 176.343\n"
     ]
    }
   ],
   "source": [
    "print_features(test_features_df)"
   ]
  },
  {
   "cell_type": "markdown",
   "metadata": {
    "id": "gFgQlYSlL9hW"
   },
   "source": [
    "**There's an obvious imbalance in the variance our features; Our features indeed belong to very different distributions:** our MFC coefficients' deviation is greater than the other features by orders of magnitude. That does not mean MFC coefficients are the most important feature, but rather it is a property of the way they are computed.  We will certainly need to scale this feature set.\n",
    "\n",
    "We have the choice of sklearn's StandardScaler and MinMaxScaler. Standard scaling subtracts the mean of each feature and divides it by the standard deviation of that feature, producing features with mean at zero and unit variance - that is, a variance and standard deviation of 1. Min-Max scaling transforms each feature to be within a bounded interval that we specify.\n",
    "\n",
    "In practice, **MinMax scaling is especially useful when we know our features should be in a bounded interval**, such as pixel values in [0,255], while **standard scaling is perhaps more practical for features with unknown distributions** because centering the features at zero-mean with a standard deviation of 1 means extreme values will have less of an impact on the model's learned weights, i.e. the model is less sensitive to outliers.\n",
    "\n",
    "We'll create MinMax scaled features as well so we can give them a try later on to confirm that standard scaling is better in the absence of knowledge on the appropriate distribution for a dataset's features."
   ]
  },
  {
   "cell_type": "code",
   "execution_count": 102,
   "metadata": {
    "id": "_BCAYVEUL9hW"
   },
   "outputs": [],
   "source": [
    "from sklearn.preprocessing import StandardScaler\n",
    "from sklearn.preprocessing import MinMaxScaler\n",
    "\n",
    "scaler = StandardScaler()\n",
    "# keep our unscaled features just in case we need to process them alternatively\n",
    "features_scaled = features\n",
    "features_scaled = scaler.fit_transform(features_scaled)\n",
    "\n",
    "# ASSIGNMENT TEST\n",
    "test_features_scaled = test_features\n",
    "test_features_scaled = scaler.fit_transform(test_features_scaled)\n",
    "\n",
    "scaler = MinMaxScaler()\n",
    "\n",
    "# keep our unscaled features just in case we need to process them alternatively\n",
    "features_minmax = features\n",
    "features_minmax = scaler.fit_transform(features_minmax)\n",
    "\n",
    "# ASSIGNMENT TEST 2\n",
    "test_features_minmax = test_features\n",
    "test_features_minmax = scaler.fit_transform(test_features_minmax)"
   ]
  },
  {
   "cell_type": "markdown",
   "metadata": {
    "id": "r4ATx5oNL9hX"
   },
   "source": [
    "Make sure our features are properly scaled:"
   ]
  },
  {
   "cell_type": "code",
   "execution_count": 103,
   "metadata": {
    "colab": {
     "base_uri": "https://localhost:8080/"
    },
    "id": "mlRuHQkKL9hX",
    "outputId": "f9c6f755-465e-4922-d4f5-9d3b8b191fb0"
   },
   "outputs": [
    {
     "name": "stdout",
     "output_type": "stream",
     "text": [
      "\u001b[1mStandard Scaling:\n",
      "\u001b[0m\n",
      "12 Chromagram features:           min = -3.896,     max = 4.368,     mean = -0.000,     deviation = 1.000\n",
      "\n",
      "128 Mel Spectrogram features:     min = -0.474,     max = 36.531,     mean = -0.000,     deviation = 1.000\n",
      "\n",
      "40 MFCC features:                 min = -4.803,    max = 6.238,    mean = 0.000,    deviation = 1.000\n",
      "\n",
      "\n",
      "\u001b[1mMinMax Scaling:\n",
      "\u001b[0m\n",
      "12 Chromagram features:           min = 0.000,     max = 1.000,     mean = 0.472,     deviation = 0.145\n",
      "\n",
      "128 Mel Spectrogram features:     min = 0.000,     max = 1.000,     mean = 0.015,     deviation = 0.061\n",
      "\n",
      "40 MFCC features:                 min = 0.000,    max = 1.000,    mean = 0.412,    deviation = 0.169\n",
      "\n",
      "\n",
      "\u001b[1mActor 25 Standard Scaling:\n",
      "\u001b[0m\n",
      "12 Chromagram features:           min = -1.745,     max = 1.689,     mean = -0.000,     deviation = 0.962\n",
      "\n",
      "128 Mel Spectrogram features:     min = -0.680,     max = 2.545,     mean = 0.000,     deviation = 1.000\n",
      "\n",
      "40 MFCC features:                 min = -2.646,    max = 2.646,    mean = -0.000,    deviation = 1.002\n",
      "\n",
      "\n",
      "\u001b[1m Actor 25 MinMax Scaling:\n",
      "\u001b[0m\n",
      "12 Chromagram features:           min = 0.000,     max = 1.000,     mean = 0.435,     deviation = 0.334\n",
      "\n",
      "128 Mel Spectrogram features:     min = 0.000,     max = 0.000,     mean = 0.000,     deviation = 0.000\n",
      "\n",
      "40 MFCC features:                 min = 0.000,    max = 1.000,    mean = 0.575,    deviation = 0.495\n"
     ]
    }
   ],
   "source": [
    "print('\\033[1m'+'Standard Scaling:\\n'+'\\033[0m')\n",
    "features_scaled_df = pd.DataFrame(features_scaled)\n",
    "print_features(features_scaled_df)\n",
    "\n",
    "print('\\n\\n\\033[1m'+'MinMax Scaling:\\n'+'\\033[0m')\n",
    "features_minmax_df = pd.DataFrame(features_minmax)\n",
    "print_features(features_minmax_df)\n",
    "\n",
    "## TEST Scales\n",
    "print('\\n\\n\\033[1m'+'Actor 25 Standard Scaling:\\n'+'\\033[0m')\n",
    "test_features_scaled_df = pd.DataFrame(test_features_scaled)\n",
    "print_features(test_features_scaled_df)\n",
    "\n",
    "print('\\n\\n\\033[1m'+' Actor 25 MinMax Scaling:\\n'+'\\033[0m')\n",
    "test_features_minmax_df = pd.DataFrame(test_features_minmax)\n",
    "print_features(test_features_minmax_df)\n"
   ]
  },
  {
   "cell_type": "markdown",
   "metadata": {
    "id": "vZfzIh7DL9hX"
   },
   "source": [
    "Perfect. Zero mean and unit variance for standard scaling and in the range [0,1] for MinMax scaling - a default when we don't specify values. We can now move on to building predictive models for these features."
   ]
  },
  {
   "cell_type": "markdown",
   "metadata": {
    "id": "z5tXewLEL9hX"
   },
   "source": [
    "## Classical Machine Learning Models\n",
    "\n",
    "\n",
    "Classical machine learning models encompass a broad range of algorithms that have been foundational to the field's development and are still widely used for various predictive tasks. These models can be broadly categorized into supervised and unsupervised learning methods, each suited for different kinds of data and objectives.\n",
    "\n",
    "We will be looking into few popular Machine Learning Algorithms such as Support Vector Machine(SVM), K-Nearest Neighbors and Random Forest Classifier. There are many other classical models with their own strengths and weaknesses, and the choice of model depends on the specific requirements of the task, including the nature of the data, the complexity of the problem, and the computational efficiency required. Despite the rise of deep learning, classical machine learning models remain vital tools in a data scientist's arsenal due to their efficiency, interpretability, and strong performance in many scenarios.\n",
    "\n",
    "The use of classic machine learning method is due to the small size of our dataset; Some of the most robust models such as Support vector (machine) classifiers **(SVC) and k-Nearest-Neighbour classifiers (kNN) are particularly suited to smaller datasets and fall apart with huge datasets.**\n"
   ]
  },
  {
   "cell_type": "markdown",
   "metadata": {
    "id": "jwU-jXSGL9hY"
   },
   "source": [
    "### Training: The 80/20 Split and Validation\n",
    "In order to compare models, we'll have to evaluate their performance. The simplest method to do so is to train a model on a portion of our dataset and test it on the remainder. We'll use sklearn's train_test_split to create a standard 80/20 train/test split. The model is fit on 80% of\n",
    "the data and tested for performance against 20% of the data, which it has never seen in training - also called the hold-out set.\n",
    " <img src=\"https://github.com/IAT-ExploringAI-2024/Week3-Machine_Learning/blob/main/images/Capture2.PNG?raw=true\" width=\"800\">\n",
    "\n",
    "More accurately, the proper modality for training and scoring a model is to\n",
    "1. Fit/train our model on a _training_ set,\n",
    "2. Evaluate the model on a _validation_ set to tune the hyperparameters for better performance,\n",
    "3. Finally score our model's true performance - its **generalizability** - against a _test_ set, aka the hold-out set.\n",
    "4. Repeat from 2. **Do not tune the model to score well on the test set**. Only evaluate on test-set once.\n",
    "\n",
    "Different set ratios are used in this approach - a usual example is 60/20/20 train/validation/test.For simplicity, we're going to start with an 80/20 train/test split. The model will be trained on all the training data, and we will check its performance on the test data. We'll skip validation for now.\n",
    "\n",
    " <img src=\"https://github.com/IAT-ExploringAI-2024/Week3-ClassicML/blob/main/images/traintestsplit.PNG?raw=true\" width=\"800\">\n",
    "\n",
    "Define unscaled and scaled training and test sets:"
   ]
  },
  {
   "cell_type": "code",
   "execution_count": 127,
   "metadata": {
    "colab": {
     "base_uri": "https://localhost:8080/",
     "height": 1000
    },
    "id": "8jGN4ROVL9hY",
    "outputId": "93674f05-c3a0-4e65-c024-3a88edd59edf"
   },
   "outputs": [],
   "source": [
    "from sklearn.model_selection import train_test_split\n",
    "\n",
    "\n",
    "############# Unscaled test/train set #############\n",
    "X_train, X_test, y_train, y_test =train_test_split(\n",
    "    features,\n",
    "    emotions,\n",
    "    test_size=0.2,\n",
    "    random_state=42\n",
    ")\n",
    "\n",
    "############ Standard Scaled test/train set ###########\n",
    "# The labels/classes (y_train, y_test) never change, keep old values\n",
    "X_train_scaled, X_test_scaled, _, _ = train_test_split(\n",
    "    features_scaled,\n",
    "    emotions,\n",
    "    test_size=0.2,\n",
    "    random_state=42\n",
    ")\n",
    "\n",
    "############# MinMax Scaled test/train set ###############\n",
    "# The labels/classes (y_train, y_test) never change, keep old values\n",
    "X_train_minmax, X_test_minmax, _, _ = train_test_split(\n",
    "    features_scaled,\n",
    "    emotions,\n",
    "    test_size=0.2,\n",
    "    random_state=42\n",
    ")\n",
    "\n",
    "### Test Unscaled\n",
    "test_x, test_x_test, _, _ = train_test_split(\n",
    "    test_features_scaled,\n",
    "    test_emotions,\n",
    "    test_size=1,\n",
    "    random_state=42\n",
    ")\n",
    "\n",
    "### Test Scaled\n",
    "test_x_scaled, test_x_test_scaled, _, _ = train_test_split(\n",
    "    test_features_scaled,\n",
    "    test_emotions,\n",
    "    test_size=1,\n",
    "    random_state=42\n",
    ")\n",
    "\n",
    "### Test Minmax\n",
    "test_x_minmax, test_x_test_minxmax, _, _ = train_test_split(\n",
    "    test_features_minmax,\n",
    "    test_emotions,\n",
    "    test_size=1,\n",
    "    random_state=42\n",
    ")\n",
    "\n"
   ]
  },
  {
   "cell_type": "markdown",
   "metadata": {
    "id": "Q3Mh0RrEL9hY"
   },
   "source": [
    "### Comparing Models\n",
    "We'll try each off-the-shelf machine learning model from sklearn and pick a few to explore, since these models will train near instantly on this dataset."
   ]
  },
  {
   "cell_type": "code",
   "execution_count": 131,
   "metadata": {
    "id": "iLPeyR7vL9he",
    "scrolled": true
   },
   "outputs": [
    {
     "data": {
      "text/html": [
       "<div>\n",
       "<style scoped>\n",
       "    .dataframe tbody tr th:only-of-type {\n",
       "        vertical-align: middle;\n",
       "    }\n",
       "\n",
       "    .dataframe tbody tr th {\n",
       "        vertical-align: top;\n",
       "    }\n",
       "\n",
       "    .dataframe thead th {\n",
       "        text-align: right;\n",
       "    }\n",
       "</style>\n",
       "<table border=\"1\" class=\"dataframe\">\n",
       "  <thead>\n",
       "    <tr style=\"text-align: right;\">\n",
       "      <th></th>\n",
       "      <th>Classifier (Unscaled)</th>\n",
       "      <th>Accuracy Score</th>\n",
       "      <th>Accuracy Score - Actor 25</th>\n",
       "    </tr>\n",
       "  </thead>\n",
       "  <tbody>\n",
       "    <tr>\n",
       "      <th>4</th>\n",
       "      <td>RandomForestClassifier</td>\n",
       "      <td>60.42%</td>\n",
       "      <td>12.50%</td>\n",
       "    </tr>\n",
       "    <tr>\n",
       "      <th>1</th>\n",
       "      <td>SVC</td>\n",
       "      <td>52.08%</td>\n",
       "      <td>12.50%</td>\n",
       "    </tr>\n",
       "    <tr>\n",
       "      <th>0</th>\n",
       "      <td>KNeighborsClassifier</td>\n",
       "      <td>46.88%</td>\n",
       "      <td>12.50%</td>\n",
       "    </tr>\n",
       "    <tr>\n",
       "      <th>3</th>\n",
       "      <td>DecisionTreeClassifier</td>\n",
       "      <td>38.54%</td>\n",
       "      <td>12.50%</td>\n",
       "    </tr>\n",
       "    <tr>\n",
       "      <th>5</th>\n",
       "      <td>AdaBoostClassifier</td>\n",
       "      <td>31.94%</td>\n",
       "      <td>12.50%</td>\n",
       "    </tr>\n",
       "    <tr>\n",
       "      <th>6</th>\n",
       "      <td>GaussianNB</td>\n",
       "      <td>30.90%</td>\n",
       "      <td>12.50%</td>\n",
       "    </tr>\n",
       "    <tr>\n",
       "      <th>2</th>\n",
       "      <td>SVC RBF kernel</td>\n",
       "      <td>28.82%</td>\n",
       "      <td>12.50%</td>\n",
       "    </tr>\n",
       "    <tr>\n",
       "      <th>7</th>\n",
       "      <td>QuadraticDiscriminantAnalysis</td>\n",
       "      <td>19.10%</td>\n",
       "      <td>12.50%</td>\n",
       "    </tr>\n",
       "  </tbody>\n",
       "</table>\n",
       "</div>"
      ],
      "text/plain": [
       "           Classifier (Unscaled) Accuracy Score Accuracy Score - Actor 25\n",
       "4         RandomForestClassifier         60.42%                    12.50%\n",
       "1                            SVC         52.08%                    12.50%\n",
       "0           KNeighborsClassifier         46.88%                    12.50%\n",
       "3         DecisionTreeClassifier         38.54%                    12.50%\n",
       "5             AdaBoostClassifier         31.94%                    12.50%\n",
       "6                     GaussianNB         30.90%                    12.50%\n",
       "2                 SVC RBF kernel         28.82%                    12.50%\n",
       "7  QuadraticDiscriminantAnalysis         19.10%                    12.50%"
      ]
     },
     "execution_count": 131,
     "metadata": {},
     "output_type": "execute_result"
    }
   ],
   "source": [
    "from sklearn.neighbors import KNeighborsClassifier\n",
    "from sklearn.svm import SVC\n",
    "from sklearn.tree import DecisionTreeClassifier\n",
    "from sklearn.ensemble import RandomForestClassifier, AdaBoostClassifier\n",
    "from sklearn.naive_bayes import GaussianNB\n",
    "from sklearn.discriminant_analysis import QuadraticDiscriminantAnalysis\n",
    "\n",
    "classification_models = [\n",
    "    KNeighborsClassifier(),#(3),\n",
    "    SVC(kernel='linear'),#, C=0.025),\n",
    "    SVC(kernel='rbf'),\n",
    "    DecisionTreeClassifier(),#max_depth=5),\n",
    "    RandomForestClassifier(),#max_depth=5, n_estimators=10, max_features=1),\n",
    "    AdaBoostClassifier(),\n",
    "    GaussianNB(),\n",
    "    QuadraticDiscriminantAnalysis()]\n",
    "\n",
    "scores = []\n",
    "for model in classification_models:\n",
    "  # TRAINING\n",
    "    model.fit(X_train, y_train)\n",
    "    model_name = type(model).__name__\n",
    "    if model_name=='SVC' and model.kernel=='rbf': model_name+=' RBF kernel'\n",
    "\n",
    "    # Trained Score\n",
    "    score = model.score(X_test, y_test)\n",
    "    # scores.append((model_name,(f'{100*score:.2f}%')))\n",
    "\n",
    "    # Assignment work\n",
    "    test_score = model.score(test_features, test_emotions)\n",
    "    scores.append((model_name,(f'{100*score:.2f}%'), (f'{100*test_score:.2f}%')))\n",
    "\n",
    "\n",
    "\n",
    "# Make it pretty\n",
    "scores_df = pd.DataFrame(scores,columns=['Classifier (Unscaled)','Accuracy Score','Accuracy Score - Actor 25'])\n",
    "scores_df.sort_values(by='Accuracy Score',axis=0,ascending=False)\n",
    "\n",
    "# test_scores_df = pd.DataFrame(test_scores,columns=['Classifier (Actor 25)','Accuracy Score'])\n",
    "# scores_df.sort_values(by='Accuracy Score',axis=0,ascending=False)"
   ]
  },
  {
   "cell_type": "markdown",
   "metadata": {
    "id": "B3Ae3wngtSmN"
   },
   "source": [
    "Lab Instruction: Add additional column that uses your Actor 25 i.e. accuracy score of personal recordings OR Create a new table to test for accuracy on own recordings ^^"
   ]
  },
  {
   "cell_type": "markdown",
   "metadata": {
    "id": "JrD98CpPL9he"
   },
   "source": [
    "Let's pick the top three - Random Forests, SVC, and kNN - and take a closer look at each of them."
   ]
  },
  {
   "cell_type": "markdown",
   "metadata": {
    "id": "4dBNoEolL9hf"
   },
   "source": [
    "### The Support Vector Machine Classifier\n",
    "\n",
    "We'll go in chronological order. First is the support vector machine classifier (SVC) - a model from the 60s. SVMs are models quick to train for this task and best suited to small datasets due to its quadratic time complexity w.r.t. size of the training dataset (# of training samples). This is also the reason it breaks down with larger datasets since it becomes very expensive to train.\n",
    "\n",
    "The idea behind SVMs on which the SVC model is based is to find a separating hyperplane - a subspace with dimension one less than that of the feature space - for points in our feature space; i.e. for a 3D space, a hyperplane is a regular plane, in 2D, a line. This idea extends to n dimensions. If points are separable by a hyperplane, they are said to be linearly separable. **Since there are infinite possible separating hyperplanes for any linearly separable feature space, an SVM computes which points are closest to each such hyperplane and uses them to construct a _support vector_. The SVM picks the hyperplane which maximizes the distance - _margin_ - to each support vector.** In this way, we maximize the separating ability of the chosen hyperplane.\n",
    "\n",
    "The core of SVMs is the kernel. We could map all new points from our input space, where they were not separable by a hyperplane, to a higher dimension in which we have found a hyperplane to separate the points in that space. However, that would be extremely computationally expensive for data that needs to be mapped to much higher dimensions. Instead, we **compute the hyperplane in the higher dimension on our training data and map the hyperplane back to the lower-dimension input space to use for classifying our data. This is the _kernel trick_, whereby the kernel (function) enables us to compute distances to new points in the input space without transforming each to the higher dimensional space - drastically reducing the computational complexity of the SVM.**\n",
    "\n",
    " <img src=\"https://github.com/IAT-ExploringAI-2024/Week3-Machine_Learning/blob/main/images/kernel1.png?raw=true\" width=\"800\">"
   ]
  },
  {
   "cell_type": "markdown",
   "metadata": {
    "id": "r-VTE6HjL9hf"
   },
   "source": [
    "A linear kernel should always be tested because **a linear kernel is much faster to train than a non-linear kernel**; however, properly tuned, a non-linear kernel often provides the best possible predictive performance. **RBF (radial basis function) is a good default to use for a non-linear kernel** and often is the best non-linear kernel because it usually provides a higher accuracy compared to other non-linear kernels at the cost of higher computational complexity. We can afford to try the RBF kernel because our dataset is small.\n",
    "\n",
    "If you want to explore further please have a look at [this article](https://www.analyticsvidhya.com/blog/2021/10/support-vector-machinessvm-a-complete-guide-for-beginners/)"
   ]
  },
  {
   "cell_type": "code",
   "execution_count": 84,
   "metadata": {
    "id": "ruBbt50ML9hf"
   },
   "outputs": [
    {
     "name": "stdout",
     "output_type": "stream",
     "text": [
      "SVC Model's accuracy on training set is 99.74%\n",
      "SVC Model's accuracy on test set is 52.78%\n"
     ]
    }
   ],
   "source": [
    "from sklearn.svm import SVC\n",
    "\n",
    "# Properties are hyperparameters\n",
    "model = SVC(\n",
    "    C=10,  #higher the value tighter the margin\n",
    "    gamma='auto',\n",
    "    kernel='rbf',\n",
    "    random_state=42\n",
    ")\n",
    "\n",
    "model.fit(X_train, y_train)\n",
    "\n",
    "print(f'SVC Model\\'s accuracy on training set is {100*model.score(X_train, y_train):.2f}%')\n",
    "print(f'SVC Model\\'s accuracy on test set is {100*model.score(X_test, y_test):.2f}%')"
   ]
  },
  {
   "cell_type": "markdown",
   "metadata": {
    "id": "PIm1a-tiL9hg"
   },
   "source": [
    "Not bad at all for the relatively simple SVC model. **Hyperparameter 𝐶 regulates the margin.** It might do well to optimize the SVC model further if we don't find a better one. As it stands, we are looking for considerably higher performance in this task.\n",
    "\n",
    "Check out [this link](https://towardsdatascience.com/visualizing-the-effect-of-hyperparameters-on-support-vector-machines-b9eef6f7357b) for visual representation of affect of changes in C and gamma."
   ]
  },
  {
   "cell_type": "markdown",
   "metadata": {
    "id": "j72LJRfCL9hg"
   },
   "source": [
    "### k Nearest Neighbours\n",
    "\n",
    "k Nearest Neighbours (kNN) is next in line, a tried-and-true machine learning method from the 70s. kNN makes a lot of intuitive sense: imagine plotting points on a graph and drawing gates around points that look like they belong to the same group. That's what it is - we **plot our training samples' features and compare a test sample's features' distance to all those points; then just take the _k_ closest points to the test sample and pick the most frequent label/class.** That's it.\n",
    "\n",
    "kNN is a great starting point for multiclass problems with small datasets, although on large dadtasets less reliable and extremely memory hungry (it stores all training sample points). kNN is also useful in that it makes **no assumptions about the underlying distribution of the data set - so kNNs work well for both linear and non-linear data.** In the 2D example:\n",
    "\n",
    "<img src=\"https://github.com/IAT-ExploringAI-2024/Week3-ClassicML/blob/main/images/knn.png?raw=true\" width=400 height=400 />"
   ]
  },
  {
   "cell_type": "code",
   "execution_count": 85,
   "metadata": {
    "id": "qaeCneMiL9hg"
   },
   "outputs": [
    {
     "name": "stdout",
     "output_type": "stream",
     "text": [
      "Default kNN Model's accuracy on training set is 66.90%\n",
      "Default kNN Model's accuracy on test set is 46.88%\n",
      "\n",
      "kNN Model's accuracy on training set is 99.74%\n",
      "kNN Model's accuracy on test set is 51.04%\n"
     ]
    }
   ],
   "source": [
    "from sklearn.neighbors import KNeighborsClassifier\n",
    "\n",
    "####### Default kNN  ########\n",
    "model = KNeighborsClassifier(\n",
    ")\n",
    "\n",
    "model.fit(X_train, y_train)\n",
    "\n",
    "print(f'Default kNN Model\\'s accuracy on training set is {100*model.score(X_train, y_train):.2f}%')\n",
    "print(f'Default kNN Model\\'s accuracy on test set is {100*model.score(X_test, y_test):.2f}%\\n')\n",
    "\n",
    "##### (hastily) tuned kNN ######\n",
    "model = KNeighborsClassifier(\n",
    "    n_neighbors = 5,\n",
    "    weights = 'distance',\n",
    "    algorithm = 'brute',\n",
    "    n_jobs=4\n",
    ")\n",
    "\n",
    "model.fit(X_train, y_train)\n",
    "\n",
    "print(f'kNN Model\\'s accuracy on training set is {100*model.score(X_train, y_train):.2f}%')\n",
    "print(f'kNN Model\\'s accuracy on test set is {100*model.score(X_test, y_test):.2f}%')"
   ]
  },
  {
   "cell_type": "markdown",
   "metadata": {
    "id": "BxVEKUyiL9hh"
   },
   "source": [
    "**The brute-force algorithm computes distances between all pairs of points in the training set; works especially well for small datasets** but wildly inefficient w.r.t. increasing samples and feature space dimension. Not bad for 2 minutes of work, but still not suitable for this task."
   ]
  },
  {
   "cell_type": "markdown",
   "metadata": {
    "id": "zvQ3av4cL9hh"
   },
   "source": [
    "### Random Forests\n",
    "Finally, and before resorting to deep learning methods, let's try a Random Forest -  a model from the 21st century (2001). **We train many distinct decision trees which are essentially directed acyclic graphs (DAGs), somewhat similar to a flow chart. The collection of (decision) trees makes up our Random Forest.**\n",
    "\n",
    "At each node of the tree we have a function (a rule) that evaluates whether the features of samples input to that node belong to one class or another. Each branch of the tree (or, edge of the graph) defines one of two possible results from a node, and each leaf is one of two decisions made by its parent node. **Each tree in the forest evaluates a random subset of the training samples' features and has a rule at each level of the tree that classifies based on these random features - hence, _Random_ Forest. This random selection of features makes Random Forests robust to outliers**, as such features will have less of an impact in the scope of the entire forest, most of whose trees operate on the \"real\" features.\n",
    "\n",
    "**Random Forests are excellent models to use as a benchmark due to their low time complexity to train and because it is an ensemble method, their robustness to unknown distributions and outliers in the dataset,** meaning Random Forests require relatively little exploratory analysis in both the data and training the model to get an idea of their performance in a task.\n",
    "\n",
    "<img src=\"https://github.com/IliaZenkov/sklearn-audio-classification/blob/master/img/randomforest.png?raw=true\" width=500 height=500 />"
   ]
  },
  {
   "cell_type": "code",
   "execution_count": 86,
   "metadata": {
    "id": "j9BWmcV9L9hh"
   },
   "outputs": [
    {
     "name": "stdout",
     "output_type": "stream",
     "text": [
      "Default Random Forest Model's accuracy on training set is 100.00%\n",
      "Default Random Forest Model's accuracy on test set is 58.33%\n",
      "\n",
      "Random Forest Model's accuracy on training set is 100.00%\n",
      "Random Forest Model's accuracy on test set is 60.76%\n"
     ]
    }
   ],
   "source": [
    "from sklearn.ensemble import RandomForestClassifier\n",
    "\n",
    "####### Default Random Forest ########\n",
    "model = RandomForestClassifier(\n",
    "    random_state=69\n",
    ")\n",
    "\n",
    "model.fit(X_train, y_train)\n",
    "\n",
    "print(f'Default Random Forest Model\\'s accuracy on training set is {100*model.score(X_train, y_train):.2f}%')\n",
    "print(f'Default Random Forest Model\\'s accuracy on test set is {100*model.score(X_test, y_test):.2f}%\\n')\n",
    "\n",
    "\n",
    "########## Tuned Random Forest #######\n",
    "model = RandomForestClassifier(\n",
    "    n_estimators = 500,\n",
    "    criterion ='entropy',\n",
    "    warm_start = True,\n",
    "    max_features = 'sqrt',\n",
    "    oob_score = True, # more on this below\n",
    "    random_state=42\n",
    ")\n",
    "\n",
    "model.fit(X_train, y_train)\n",
    "\n",
    "print(f'Random Forest Model\\'s accuracy on training set is {100*model.score(X_train, y_train):.2f}%')\n",
    "print(f'Random Forest Model\\'s accuracy on test set is {100*model.score(X_test, y_test):.2f}%')"
   ]
  },
  {
   "cell_type": "markdown",
   "metadata": {
    "id": "vM9-k8KLL9hi"
   },
   "source": [
    "Not bad for zero effort put into the default model. **Random Forests make a good benchmark model**, especially when strapped for time.\n",
    "\n",
    "**_Max features_ defines size of random feature subset decided upon at each node; sqrt(#features) is a good default for classification.**\n",
    "\n",
    "**_Gini_ and _Entropy_ are functions computing quality of classified samples within each node; they almost always provide similar performance but Entropy is more suited to classification while Gini is better for continuous variables.**\n"
   ]
  },
  {
   "cell_type": "markdown",
   "metadata": {
    "id": "DnhnxuGXL9hi"
   },
   "source": [
    "\n",
    "As wonderful as Random Forests are, it's clear that we're going to need to pull out bigger guns if we want to get appreciable performance on this dataset, perhaps even with good generalizability on test data. DNNs(Deep Neural Networks) are the next step-up in complexity from classical machine learning models, and we will start at the first rung on that ladder:Simple Perceptron in next lab!"
   ]
  }
 ],
 "metadata": {
  "colab": {
   "provenance": []
  },
  "kernelspec": {
   "display_name": "Python 3 (ipykernel)",
   "language": "python",
   "name": "python3"
  },
  "language_info": {
   "codemirror_mode": {
    "name": "ipython",
    "version": 3
   },
   "file_extension": ".py",
   "mimetype": "text/x-python",
   "name": "python",
   "nbconvert_exporter": "python",
   "pygments_lexer": "ipython3",
   "version": "3.13.7"
  },
  "vscode": {
   "interpreter": {
    "hash": "b0fa6594d8f4cbf19f97940f81e996739fb7646882a419484c72d19e05852a7e"
   }
  }
 },
 "nbformat": 4,
 "nbformat_minor": 4
}
